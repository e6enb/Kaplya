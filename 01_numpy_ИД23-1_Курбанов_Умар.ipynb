{
 "cells": [
  {
   "cell_type": "markdown",
   "metadata": {},
   "source": [
    "# Numpy"
   ]
  },
  {
   "cell_type": "markdown",
   "metadata": {},
   "source": [
    "Материалы:\n",
    "* Макрушин С.В. \"Лекция 1: Библиотека Numpy\"\n",
    "* https://numpy.org/doc/stable/user/index.html\n",
    "* https://numpy.org/doc/stable/reference/index.html"
   ]
  },
  {
   "cell_type": "code",
   "execution_count": 3,
   "metadata": {},
   "outputs": [],
   "source": [
    "import numpy as np"
   ]
  },
  {
   "cell_type": "markdown",
   "metadata": {},
   "source": [
    "## Задачи для совместного разбора"
   ]
  },
  {
   "cell_type": "markdown",
   "metadata": {},
   "source": [
    "1. Сгенерировать двухмерный массив `arr` размерности (4, 7), состоящий из случайных действительных чисел, равномерно распределенных в диапазоне от 0 до 20. Нормализовать значения массива с помощью преобразования вида  $𝑎𝑥+𝑏$  так, что после нормализации максимальный элемент масcива будет равен 1.0, минимальный 0.0"
   ]
  },
  {
   "cell_type": "code",
   "execution_count": 4,
   "metadata": {
    "scrolled": true
   },
   "outputs": [
    {
     "data": {
      "text/plain": [
       "array([[17,  2,  1, 16,  1,  4,  5],\n",
       "       [ 1,  4, 17, 19,  8,  5, 15],\n",
       "       [11, 20, 14, 13,  2,  2,  6],\n",
       "       [ 9,  1,  8,  2,  1, 11,  2]])"
      ]
     },
     "execution_count": 4,
     "metadata": {},
     "output_type": "execute_result"
    }
   ],
   "source": [
    "arr = np.random.randint(0, 21, (4,7))\n",
    "arr"
   ]
  },
  {
   "cell_type": "code",
   "execution_count": 5,
   "metadata": {},
   "outputs": [
    {
     "data": {
      "text/plain": [
       "array([[0.85, 0.1 , 0.05, 0.8 , 0.05, 0.2 , 0.25],\n",
       "       [0.05, 0.2 , 0.85, 0.95, 0.4 , 0.25, 0.75],\n",
       "       [0.55, 1.  , 0.7 , 0.65, 0.1 , 0.1 , 0.3 ],\n",
       "       [0.45, 0.05, 0.4 , 0.1 , 0.05, 0.55, 0.1 ]])"
      ]
     },
     "execution_count": 5,
     "metadata": {},
     "output_type": "execute_result"
    }
   ],
   "source": [
    "arr/20"
   ]
  },
  {
   "cell_type": "markdown",
   "metadata": {},
   "source": [
    "2. Создать матрицу 8 на 10 из случайных целых (используя модуль `numpy.random`) чисел из диапозона от 0 до 10 и найти в ней строку (ее индекс и вывести саму строку), в которой сумма значений минимальна."
   ]
  },
  {
   "cell_type": "code",
   "execution_count": 6,
   "metadata": {},
   "outputs": [
    {
     "name": "stdout",
     "output_type": "stream",
     "text": [
      "[2 7 1 0 4 6 0 3 3 8]\n",
      "индекс строки с минимальной суммой = 0\n"
     ]
    }
   ],
   "source": [
    "arr2 = np.random.randint(0, 11, (8,10))\n",
    "sm = [i.sum() for i in arr2]\n",
    "print(arr2[sm.index(min(sm))])\n",
    "print('индекс строки с минимальной суммой = {}'.format(sm.index(min(sm))))"
   ]
  },
  {
   "cell_type": "markdown",
   "metadata": {},
   "source": [
    "3. Найти евклидово расстояние между двумя одномерными векторами одинаковой размерности."
   ]
  },
  {
   "cell_type": "code",
   "execution_count": 7,
   "metadata": {},
   "outputs": [
    {
     "name": "stdout",
     "output_type": "stream",
     "text": [
      "[4 3 1 1] [2 2 5 4] 5.477225575051661 "
     ]
    }
   ],
   "source": [
    "a = np.random.randint(1, 6, 4)\n",
    "b = np.random.randint(1, 6, 4)\n",
    "evkl = np.linalg.norm(a - b)\n",
    "print(a, b, evkl, end = ' ')\n",
    "\n",
    "# np.linalg.norm() - функция для нахождения евклидова расстояния "
   ]
  },
  {
   "cell_type": "markdown",
   "metadata": {},
   "source": [
    "4. Решить матричное уравнение `A*X*B=-C` - найти матрицу `X`. Где `A = [[-1, 2, 4], [-3, 1, 2], [-3, 0, 1]]`, `B=[[3, -1], [2, 1]]`, `C=[[7, 21], [11, 8], [8, 4]]`."
   ]
  },
  {
   "cell_type": "code",
   "execution_count": 8,
   "metadata": {},
   "outputs": [
    {
     "data": {
      "text/plain": [
       "array([[ 1.00000000e+00,  5.32907052e-16],\n",
       "       [-2.00000000e+00,  1.00000000e+00],\n",
       "       [ 3.00000000e+00, -4.00000000e+00]])"
      ]
     },
     "execution_count": 8,
     "metadata": {},
     "output_type": "execute_result"
    }
   ],
   "source": [
    "A = np.array([[-1,2,4], [-3,1,2], [-3,0,1]])\n",
    "B = np.array([[3,-1], [2,1]])\n",
    "C = np.array([[7,21], [11,8], [8,4]])\n",
    "X = np.linalg.inv(A) @ (-C) @ np.linalg.inv(B)\n",
    "X\n",
    "\n",
    "# np.linalg.inv() - функция для нахождения обратной матрицы"
   ]
  },
  {
   "cell_type": "markdown",
   "metadata": {},
   "source": [
    "## Лабораторная работа №1"
   ]
  },
  {
   "cell_type": "markdown",
   "metadata": {},
   "source": [
    "Замечание: при решении данных задач не подразумевается использования циклов или генераторов Python, если в задании не сказано обратного. Решение должно опираться на использования функционала библиотеки `numpy`."
   ]
  },
  {
   "cell_type": "markdown",
   "metadata": {},
   "source": [
    "1. Файл `minutes_n_ingredients.csv` содержит информацию об идентификаторе рецепта, времени его выполнения в минутах и количестве необходимых ингредиентов. Считайте данные из этого файла в виде массива `numpy` типа `int32`, используя `np.loadtxt`. Выведите на экран первые 5 строк массива."
   ]
  },
  {
   "cell_type": "code",
   "execution_count": 9,
   "metadata": {},
   "outputs": [
    {
     "data": {
      "text/plain": [
       "array([[127244,     60,     16],\n",
       "       [ 23891,     25,      7],\n",
       "       [ 94746,     10,      6],\n",
       "       [ 67660,      5,      6],\n",
       "       [157911,     60,     14]], dtype=int32)"
      ]
     },
     "execution_count": 9,
     "metadata": {},
     "output_type": "execute_result"
    }
   ],
   "source": [
    "recipes = np.loadtxt('minutes_n_ingredients.csv', delimiter=',', dtype=np.int32, skiprows=1)\n",
    "recipes[:5]\n",
    "\n",
    "# loadtxt(fname, dtype=float, comments='#', delimiter=None, converters=None, skiprows=0, usecols=None, unpack=False, ndmin=0, encoding='bytes', max_rows=None, *, quotechar=None,like=None)\n",
    "\n",
    "#    1. fname (обязательный) - имя файла или файлоподобный объект, из которого нужно загрузить данные.\n",
    "#    2. dtype (опциональный) - тип данных, в который нужно преобразовать загруженные значения.\n",
    "#    3. comments (опциональный) - символ комментария, все строки, начинающиеся с этого символа, будут проигнорированы.\n",
    "#    4. delimiter (опциональный) - разделитель между значениями в файле.\n",
    "#    5. skiprows (опциональный) - количество строк, которые нужно пропустить перед началом загрузки данных.\n",
    "#    6. usecols (опциональный) - индексы столбцов, которые нужно загрузить.\n",
    "#    7. unpack (опциональный) - если True, данные будут распакованы в отдельные массивы столбцов.\n",
    "#    8. ndmin (опциональный) - минимальное количество измерений, которое должны иметь загруженные данные."
   ]
  },
  {
   "cell_type": "code",
   "execution_count": 10,
   "metadata": {},
   "outputs": [
    {
     "name": "stdout",
     "output_type": "stream",
     "text": [
      "id minutes n_ingredients\n",
      "[[127244     60     16]\n",
      " [ 23891     25      7]\n",
      " [ 94746     10      6]\n",
      " [ 67660      5      6]]\n"
     ]
    }
   ],
   "source": [
    "# альтернативный вариант\n",
    "import csv\n",
    "with open('minutes_n_ingredients.csv') as f:\n",
    "    f1 = csv.reader(f, delimiter=',')\n",
    "    header = next(f1)\n",
    "    rows = np.array([r for r in f1], dtype=np.int32)\n",
    "print(' '.join(header)) \n",
    "print(rows[:4])"
   ]
  },
  {
   "cell_type": "markdown",
   "metadata": {},
   "source": [
    "2. Вычислите среднее значение, минимум, максимум и медиану по каждому из столбцов, кроме первого."
   ]
  },
  {
   "cell_type": "code",
   "execution_count": 11,
   "metadata": {},
   "outputs": [
    {
     "name": "stdout",
     "output_type": "stream",
     "text": [
      "Среднее значение для минут =  21601.00169\n",
      "Минимальное значение для минут =  0\n",
      "Максимальное значение для минут =  2147483647\n",
      "Медиана для минут =  40.0\n"
     ]
    }
   ],
   "source": [
    "minutes_average_value = np.average(recipes[:,1])\n",
    "minutes_min = np.min(recipes[:,1])\n",
    "minutes_max = np.max(recipes[:,1])\n",
    "minutes_median = np.median(recipes[:,1])\n",
    "print('Среднее значение для минут = ', minutes_average_value)\n",
    "print('Минимальное значение для минут = ', minutes_min)\n",
    "print('Максимальное значение для минут = ', minutes_max)\n",
    "print('Медиана для минут = ', minutes_median)"
   ]
  },
  {
   "cell_type": "code",
   "execution_count": 12,
   "metadata": {},
   "outputs": [
    {
     "name": "stdout",
     "output_type": "stream",
     "text": [
      "Среднее значение для ингредиентов =  9.05528\n",
      "Минимальное значение для ингредиентов =  0\n",
      "Максимальное значение для ингредиентов =  2147483647\n",
      "Медиана для ингредиентов =  40.0\n"
     ]
    }
   ],
   "source": [
    "ingredients_average_value = np.average(recipes[:,2])\n",
    "ingredients_min = np.min(recipes[:,1])\n",
    "ingredients_max = np.max(recipes[:,1])\n",
    "ingredients_median = np.median(recipes[:,1])\n",
    "print('Среднее значение для ингредиентов = ', ingredients_average_value)\n",
    "print('Минимальное значение для ингредиентов = ', ingredients_min)\n",
    "print('Максимальное значение для ингредиентов = ', ingredients_max)\n",
    "print('Медиана для ингредиентов = ', ingredients_median)"
   ]
  },
  {
   "cell_type": "code",
   "execution_count": 13,
   "metadata": {},
   "outputs": [],
   "source": [
    "# np.average() - Среднее значение\n",
    "# np.min() - Минимальное значение\n",
    "# np.max() - Максимальное значение\n",
    "# np.median() - Медиана"
   ]
  },
  {
   "cell_type": "markdown",
   "metadata": {},
   "source": [
    "3. Ограничьте сверху значения продолжительности выполнения рецепта значением квантиля $q_{0.75}$. "
   ]
  },
  {
   "cell_type": "code",
   "execution_count": 14,
   "metadata": {},
   "outputs": [
    {
     "name": "stdout",
     "output_type": "stream",
     "text": [
      "2147483647\n",
      "[[60.]\n",
      " [25.]\n",
      " [10.]\n",
      " ...\n",
      " [65.]\n",
      " [ 5.]\n",
      " [65.]]\n",
      "65.0\n"
     ]
    }
   ],
   "source": [
    "print(recipes[:,1:2].max())\n",
    "minutes = recipes[:,1:2]\n",
    "block = np.clip(minutes, 0, np.quantile(minutes, 0.75))\n",
    "print(block)\n",
    "print(block.max())\n",
    "\n",
    "# np.clip(a, a_min, a_max) - ограничение значений массива в определенном диапазоне\n",
    "#    1. a (обязательный) - массив, значения которого нужно ограничить.\n",
    "#    2. a_min (обязательный) - минимальное значение, которое может принимать массив. Если элемент массива меньше a_min, он будет заменен на a_min.\n",
    "#    3. a_max (обязательный) - максимальное значение, которое может принимать массив. Если элемент массива больше a_max, он будет заменен на a_max.\n",
    "\n",
    "# np.quantile(a, q, axis=None)\n",
    "#    1. a (обязательный) - массив, для которого нужно вычислить квантиль.\n",
    "#    2. q (обязательный) - значение квантиля, которое должно быть в диапазоне от 0 до 1. Например, 0.5 соответствует медиане.\n",
    "#    3. axis (необязательный) - ось, по которой нужно вычислить квантиль. Если не указано, квантиль вычисляется по всему массиву."
   ]
  },
  {
   "cell_type": "code",
   "execution_count": 15,
   "metadata": {
    "scrolled": false
   },
   "outputs": [],
   "source": [
    "# альтернативный вариант с изменением самого файла \n",
    "time = sorted(list(set(rows[:, 1])))\n",
    "time_q = [i if i <= time[int(len(time)*0.75)] else time[int(len(time)*0.75)] for i in rows[:, 1]]\n",
    "\n",
    "import csv\n",
    "# Открываем исходный CSV файл и создаем временный файл для записи данных с замененным столбцом\n",
    "with open('minutes_n_ingredients.csv', 'r') as csvfile, open('NEW_minutes_n_ingredients.csv', 'w', newline='') as newcsvfile:\n",
    "    reader = csv.reader(csvfile)\n",
    "    writer = csv.writer(newcsvfile)\n",
    "    \n",
    "    # Указываем индекс столбца, который нужно заменить и данные для нового столбца\n",
    "    column_to_replace = 1  \n",
    "    new_column_data = time_q # данные для нового столбца\n",
    "    \n",
    "    for i, row in enumerate(reader):\n",
    "        if i == 0:  # Если это первая строка (заголовок), заменяем название столбца\n",
    "            row[column_to_replace] = 'minutes'\n",
    "        else:\n",
    "            row[column_to_replace] = new_column_data[i - 1]  # Заменяем данные в указанном столбце\n",
    "        \n",
    "        writer.writerow(row)"
   ]
  },
  {
   "cell_type": "markdown",
   "metadata": {},
   "source": [
    "4. Посчитайте, для скольких рецептов указана продолжительность, равная нулю. Замените для таких строк значение в данном столбце на 1."
   ]
  },
  {
   "cell_type": "code",
   "execution_count": 16,
   "metadata": {},
   "outputs": [
    {
     "name": "stdout",
     "output_type": "stream",
     "text": [
      "479\n",
      "0\n"
     ]
    }
   ],
   "source": [
    "print(len(recipes[:,1:2][recipes[:,1:2] == 0]))\n",
    "recipes[:,1:2][recipes[:,1:2] == 0] = 1\n",
    "print(len(recipes[:,1:2][recipes[:,1:2] == 0]))"
   ]
  },
  {
   "cell_type": "markdown",
   "metadata": {},
   "source": [
    "5. Посчитайте, сколько уникальных рецептов находится в датасете."
   ]
  },
  {
   "cell_type": "code",
   "execution_count": 17,
   "metadata": {},
   "outputs": [
    {
     "data": {
      "text/plain": [
       "100000"
      ]
     },
     "execution_count": 17,
     "metadata": {},
     "output_type": "execute_result"
    }
   ],
   "source": [
    "uniq_recipes = np.unique(recipes, axis=0)\n",
    "len(uniq_recipes)\n",
    "\n",
    "# np.unique(arr, axis=None)\n",
    "#    arr - многомерный массив\n",
    "#    axis - указывает, по какой оси нужно искать уникальные значения\n",
    "#        В случае двумерного массива (матрицы), ось 0 соответствует строкам, а ось 1 соответствует столбцам."
   ]
  },
  {
   "cell_type": "markdown",
   "metadata": {},
   "source": [
    "6. Сколько и каких различных значений кол-ва ингредиентов присутвует в рецептах из датасета?"
   ]
  },
  {
   "cell_type": "code",
   "execution_count": 18,
   "metadata": {},
   "outputs": [
    {
     "data": {
      "text/plain": [
       "(37,\n",
       " array([ 1,  2,  3,  4,  5,  6,  7,  8,  9, 10, 11, 12, 13, 14, 15, 16, 17,\n",
       "        18, 19, 20, 21, 22, 23, 24, 25, 26, 27, 28, 29, 30, 31, 32, 33, 34,\n",
       "        35, 37, 39], dtype=int32))"
      ]
     },
     "execution_count": 18,
     "metadata": {},
     "output_type": "execute_result"
    }
   ],
   "source": [
    "uniq_ingredients = np.unique(recipes[:,2])\n",
    "len(uniq_ingredients), uniq_ingredients"
   ]
  },
  {
   "cell_type": "code",
   "execution_count": 19,
   "metadata": {},
   "outputs": [
    {
     "data": {
      "text/plain": [
       "(2, 3, 6, 2)"
      ]
     },
     "execution_count": 19,
     "metadata": {},
     "output_type": "execute_result"
    }
   ],
   "source": [
    "# образец приминения \n",
    "matrix = np.array([[1, 2, 3],\n",
    "                   [4, 5, 6],\n",
    "                   [1, 2, 3]])\n",
    "uniq_recipes1 = np.unique(matrix, axis=0) # по строкам\n",
    "uniq_recipes2 = np.unique(matrix, axis=1) # по столбцам\n",
    "uniq_recipes3 = np.unique(matrix) # по всем значениям\n",
    "uniq_recipes4 = np.unique(matrix[:,2]) # по значениям из одного столбца\n",
    "len(uniq_recipes1), len(uniq_recipes2), len(uniq_recipes3), len(uniq_recipes4)"
   ]
  },
  {
   "cell_type": "markdown",
   "metadata": {},
   "source": [
    "7. Создайте версию массива, содержащую информацию только о рецептах, состоящих не более чем из 5 ингредиентов."
   ]
  },
  {
   "cell_type": "code",
   "execution_count": 20,
   "metadata": {},
   "outputs": [
    {
     "name": "stdout",
     "output_type": "stream",
     "text": [
      "[[446597     15      5]\n",
      " [204134      5      3]\n",
      " [ 25623      6      4]\n",
      " ...\n",
      " [ 52088     60      5]\n",
      " [128811     15      4]\n",
      " [370915      5      4]] 17262 "
     ]
    }
   ],
   "source": [
    "recipes_with_no_more_5ing = recipes[recipes[:,2] <= 5]\n",
    "print(recipes_with_no_more_5ing, len(recipes_with_no_more_5ing), end=' ')"
   ]
  },
  {
   "cell_type": "markdown",
   "metadata": {},
   "source": [
    "8. Для каждого рецепта посчитайте, сколько в среднем ингредиентов приходится на одну минуту рецепта. Найдите максимальное значение этой величины для всего датасета"
   ]
  },
  {
   "cell_type": "code",
   "execution_count": 29,
   "metadata": {},
   "outputs": [
    {
     "data": {
      "text/plain": [
       "(array([0.26666667, 0.28      , 0.6       , ..., 0.23076923, 0.8       ,\n",
       "        0.1       ]),\n",
       " 24.0)"
      ]
     },
     "execution_count": 29,
     "metadata": {},
     "output_type": "execute_result"
    }
   ],
   "source": [
    "ing_for_min = np.array([])\n",
    "for e in range(recipes.shape[0]):\n",
    "    ing_for_min = np.append(ing_for_min, recipes[:,2][e]/recipes[:,1:2][e])\n",
    "ing_for_min, ing_for_min.max()"
   ]
  },
  {
   "cell_type": "markdown",
   "metadata": {},
   "source": [
    "9. Вычислите среднее количество ингредиентов для топ-100 рецептов с наибольшей продолжительностью"
   ]
  },
  {
   "cell_type": "code",
   "execution_count": 34,
   "metadata": {},
   "outputs": [
    {
     "data": {
      "text/plain": [
       "16.0"
      ]
     },
     "execution_count": 34,
     "metadata": {},
     "output_type": "execute_result"
    }
   ],
   "source": [
    "top100_rec = np.argsort(recipes[:,1:2])[:100:-1] # индексы рецептов с наибольшей продолжительностью \n",
    "ingr = np.array([])\n",
    "for i in top100_rec:\n",
    "    ingr = np.append(ingr, recipes[:,2][i])\n",
    "np.average(ingr)\n",
    "\n",
    "# np.argsort() - возвращает индексы элементов массива в отсортированном порядке"
   ]
  },
  {
   "cell_type": "markdown",
   "metadata": {},
   "source": [
    "10. Выберите случайным образом и выведите информацию о 10 различных рецептах"
   ]
  },
  {
   "cell_type": "code",
   "execution_count": 35,
   "metadata": {
    "scrolled": true
   },
   "outputs": [
    {
     "name": "stdout",
     "output_type": "stream",
     "text": [
      "[[ 81859      5      6]\n",
      " [367704     20      6]\n",
      " [285773     35      9]\n",
      " [225770     60      9]\n",
      " [217653     55     13]\n",
      " [ 21667     25      9]\n",
      " [514034     60     13]\n",
      " [407060     30      7]\n",
      " [448258    200     13]\n",
      " [312767     30      4]]\n"
     ]
    }
   ],
   "source": [
    "random_recipes = np.random.randint(0, recipes.shape[0], 10)\n",
    "print(recipes[random_recipes])"
   ]
  },
  {
   "cell_type": "markdown",
   "metadata": {},
   "source": [
    "11. Выведите процент рецептов, кол-во ингредиентов в которых меньше среднего."
   ]
  },
  {
   "cell_type": "code",
   "execution_count": 41,
   "metadata": {},
   "outputs": [
    {
     "data": {
      "text/plain": [
       "58.802"
      ]
     },
     "execution_count": 41,
     "metadata": {},
     "output_type": "execute_result"
    }
   ],
   "source": [
    "aver_ing = np.average(recipes[:,2])\n",
    "no_more_aver = recipes[:,2][recipes[:,2] < aver_ing]\n",
    "len(no_more_aver)/len(recipes)*100"
   ]
  },
  {
   "cell_type": "code",
   "execution_count": 60,
   "metadata": {},
   "outputs": [
    {
     "data": {
      "text/plain": [
       "58.802"
      ]
     },
     "execution_count": 60,
     "metadata": {},
     "output_type": "execute_result"
    }
   ],
   "source": [
    "# альтернативный вариант\n",
    "(recipes[recipes[:, 2] < np.mean(recipes[:, 2])].shape[0] / recipes.shape[0]) * 100\n",
    "\n",
    "# np.mean() - вычисление среднего значения элементов в массиве"
   ]
  },
  {
   "cell_type": "markdown",
   "metadata": {},
   "source": [
    "12. Назовем \"простым\" такой рецепт, длительность выполнения которого не больше 20 минут и кол-во ингредиентов в котором не больше 5. Создайте версию датасета с дополнительным столбцом, значениями которого являются 1, если рецепт простой, и 0 в противном случае."
   ]
  },
  {
   "cell_type": "code",
   "execution_count": 54,
   "metadata": {},
   "outputs": [
    {
     "ename": "KeyboardInterrupt",
     "evalue": "",
     "output_type": "error",
     "traceback": [
      "\u001b[0;31m---------------------------------------------------------------------------\u001b[0m",
      "\u001b[0;31mKeyboardInterrupt\u001b[0m                         Traceback (most recent call last)",
      "Cell \u001b[0;32mIn[54], line 7\u001b[0m\n\u001b[1;32m      5\u001b[0m             np\u001b[38;5;241m.\u001b[39mappend(simple_rec, \u001b[38;5;241m1\u001b[39m)\n\u001b[1;32m      6\u001b[0m         \u001b[38;5;28;01melse\u001b[39;00m:\n\u001b[0;32m----> 7\u001b[0m             np\u001b[38;5;241m.\u001b[39mappend(simple_rec, \u001b[38;5;241m0\u001b[39m)\n\u001b[1;32m      8\u001b[0m new_recipes \u001b[38;5;241m=\u001b[39m recipes \u001b[38;5;241m+\u001b[39m simple_rec\n\u001b[1;32m      9\u001b[0m new_recipes, new_recipes\u001b[38;5;241m.\u001b[39mshape\n",
      "File \u001b[0;32m<__array_function__ internals>:200\u001b[0m, in \u001b[0;36mappend\u001b[0;34m(*args, **kwargs)\u001b[0m\n",
      "File \u001b[0;32m~/anaconda3/lib/python3.11/site-packages/numpy/lib/function_base.py:5499\u001b[0m, in \u001b[0;36mappend\u001b[0;34m(arr, values, axis)\u001b[0m\n\u001b[1;32m   5497\u001b[0m     values \u001b[38;5;241m=\u001b[39m ravel(values)\n\u001b[1;32m   5498\u001b[0m     axis \u001b[38;5;241m=\u001b[39m arr\u001b[38;5;241m.\u001b[39mndim\u001b[38;5;241m-\u001b[39m\u001b[38;5;241m1\u001b[39m\n\u001b[0;32m-> 5499\u001b[0m \u001b[38;5;28;01mreturn\u001b[39;00m concatenate((arr, values), axis\u001b[38;5;241m=\u001b[39maxis)\n",
      "File \u001b[0;32m<__array_function__ internals>:200\u001b[0m, in \u001b[0;36mconcatenate\u001b[0;34m(*args, **kwargs)\u001b[0m\n",
      "\u001b[0;31mKeyboardInterrupt\u001b[0m: "
     ]
    }
   ],
   "source": [
    "simple_rec = np.array([])\n",
    "for m in recipes[:,1:2]<=20:\n",
    "    for i in recipes[:,2]<=5:\n",
    "        if m and i:\n",
    "            np.append(simple_rec, 1)\n",
    "        else:\n",
    "            np.append(simple_rec, 0)\n",
    "new_recipes = recipes + simple_rec\n",
    "new_recipes, new_recipes.shape"
   ]
  },
  {
   "cell_type": "code",
   "execution_count": 63,
   "metadata": {},
   "outputs": [
    {
     "data": {
      "text/plain": [
       "array([[127244,     60,     16,      0],\n",
       "       [ 23891,     25,      7,      0],\n",
       "       [ 94746,     10,      6,      0],\n",
       "       ...,\n",
       "       [498432,     65,     15,      0],\n",
       "       [370915,      5,      4,      1],\n",
       "       [ 81993,    140,     14,      0]])"
      ]
     },
     "execution_count": 63,
     "metadata": {},
     "output_type": "execute_result"
    }
   ],
   "source": [
    "simple_rec2 = np.array((recipes[:, 1] <= 20) & (recipes[:, 2] <= 5)).reshape(-1,1).astype('int')\n",
    "new_recipes2 = np.concatenate((recipes, simple_rec2), axis=1)\n",
    "new_recipes2"
   ]
  },
  {
   "cell_type": "code",
   "execution_count": 64,
   "metadata": {},
   "outputs": [],
   "source": [
    "# arr.reshape(-1,1) - столбец\n",
    "# arr.reshape(1,-1) - строка"
   ]
  },
  {
   "cell_type": "markdown",
   "metadata": {},
   "source": [
    "13. Выведите процент \"простых\" рецептов в датасете"
   ]
  },
  {
   "cell_type": "code",
   "execution_count": 66,
   "metadata": {},
   "outputs": [
    {
     "data": {
      "text/plain": [
       "9.552"
      ]
     },
     "execution_count": 66,
     "metadata": {},
     "output_type": "execute_result"
    }
   ],
   "source": [
    "(simple_rec2[simple_rec2 == 1].shape[0] / simple_rec2.shape[0]) * 100"
   ]
  },
  {
   "cell_type": "markdown",
   "metadata": {},
   "source": [
    "14. Разделим рецепты на группы по следующему правилу. Назовем рецепты короткими, если их продолжительность составляет менее 10 минут; стандартными, если их продолжительность составляет более 10, но менее 20 минут; и длинными, если их продолжительность составляет не менее 20 минут. Создайте трехмерный массив, где нулевая ось отвечает за номер группы (короткий, стандартный или длинный рецепт), первая ось - за сам рецепт и вторая ось - за характеристики рецепта. Выберите максимальное количество рецептов из каждой группы таким образом, чтобы было возможно сформировать трехмерный массив. Выведите форму полученного массива."
   ]
  },
  {
   "cell_type": "code",
   "execution_count": 67,
   "metadata": {},
   "outputs": [],
   "source": [
    "# 1 - короткие (менее 10)\n",
    "# 2 - средние (более 10, но менее 20)\n",
    "# 3 - длинные (более 20)"
   ]
  }
 ],
 "metadata": {
  "kernelspec": {
   "display_name": "Python 3 (ipykernel)",
   "language": "python",
   "name": "python3"
  },
  "language_info": {
   "codemirror_mode": {
    "name": "ipython",
    "version": 3
   },
   "file_extension": ".py",
   "mimetype": "text/x-python",
   "name": "python",
   "nbconvert_exporter": "python",
   "pygments_lexer": "ipython3",
   "version": "3.11.4"
  }
 },
 "nbformat": 4,
 "nbformat_minor": 4
}
